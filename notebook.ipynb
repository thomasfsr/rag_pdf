{
 "cells": [
  {
   "cell_type": "code",
   "execution_count": 20,
   "metadata": {},
   "outputs": [],
   "source": [
    "from lancedb import connect\n",
    "import pandas as pd"
   ]
  },
  {
   "cell_type": "code",
   "execution_count": 9,
   "metadata": {},
   "outputs": [],
   "source": [
    "con = connect(uri='data/lancedb')"
   ]
  },
  {
   "cell_type": "code",
   "execution_count": 22,
   "metadata": {},
   "outputs": [
    {
     "data": {
      "text/html": [
       "<div>\n",
       "<style scoped>\n",
       "    .dataframe tbody tr th:only-of-type {\n",
       "        vertical-align: middle;\n",
       "    }\n",
       "\n",
       "    .dataframe tbody tr th {\n",
       "        vertical-align: top;\n",
       "    }\n",
       "\n",
       "    .dataframe thead th {\n",
       "        text-align: right;\n",
       "    }\n",
       "</style>\n",
       "<table border=\"1\" class=\"dataframe\">\n",
       "  <thead>\n",
       "    <tr style=\"text-align: right;\">\n",
       "      <th></th>\n",
       "      <th>vector</th>\n",
       "      <th>id</th>\n",
       "      <th>text</th>\n",
       "      <th>metadata</th>\n",
       "    </tr>\n",
       "  </thead>\n",
       "  <tbody>\n",
       "    <tr>\n",
       "      <th>0</th>\n",
       "      <td>[-0.025659764, -0.0013576732, 0.0015222923, 0....</td>\n",
       "      <td>data\\ISLP_website.pdf:0:0</td>\n",
       "      <td>(BSFUI\u0001+BNFT\u0001t\u0001%BOJFMB\u00018JUUFO\u0001t\u00015SFWPS\u0001)BTUJF3...</td>\n",
       "      <td>{'id': 'data\\ISLP_website.pdf:0:0', 'page': 0,...</td>\n",
       "    </tr>\n",
       "    <tr>\n",
       "      <th>1</th>\n",
       "      <td>[0.00053913065, 0.0036482275, -0.014897205, -0...</td>\n",
       "      <td>data\\ISLP_website.pdf:1:0</td>\n",
       "      <td>To our parents:Alison and Michael JamesChiara ...</td>\n",
       "      <td>{'id': 'data\\ISLP_website.pdf:1:0', 'page': 1,...</td>\n",
       "    </tr>\n",
       "    <tr>\n",
       "      <th>2</th>\n",
       "      <td>[-0.022490883, 0.007229694, 0.014418961, -0.03...</td>\n",
       "      <td>data\\ISLP_website.pdf:2:0</td>\n",
       "      <td>Preface\\nStatistical learning refers to a set ...</td>\n",
       "      <td>{'id': 'data\\ISLP_website.pdf:2:0', 'page': 2,...</td>\n",
       "    </tr>\n",
       "    <tr>\n",
       "      <th>3</th>\n",
       "      <td>[-0.005799139, 0.004381799, 0.02090149, -0.034...</td>\n",
       "      <td>data\\ISLP_website.pdf:2:1</td>\n",
       "      <td>only in statistics but also in related fields....</td>\n",
       "      <td>{'id': 'data\\ISLP_website.pdf:2:1', 'page': 2,...</td>\n",
       "    </tr>\n",
       "    <tr>\n",
       "      <th>4</th>\n",
       "      <td>[-0.003951044, 0.011151864, 0.009530396, -0.03...</td>\n",
       "      <td>data\\ISLP_website.pdf:2:2</td>\n",
       "      <td>gression, generalized additive models, tree-ba...</td>\n",
       "      <td>{'id': 'data\\ISLP_website.pdf:2:2', 'page': 2,...</td>\n",
       "    </tr>\n",
       "  </tbody>\n",
       "</table>\n",
       "</div>"
      ],
      "text/plain": [
       "                                              vector  \\\n",
       "0  [-0.025659764, -0.0013576732, 0.0015222923, 0....   \n",
       "1  [0.00053913065, 0.0036482275, -0.014897205, -0...   \n",
       "2  [-0.022490883, 0.007229694, 0.014418961, -0.03...   \n",
       "3  [-0.005799139, 0.004381799, 0.02090149, -0.034...   \n",
       "4  [-0.003951044, 0.011151864, 0.009530396, -0.03...   \n",
       "\n",
       "                          id  \\\n",
       "0  data\\ISLP_website.pdf:0:0   \n",
       "1  data\\ISLP_website.pdf:1:0   \n",
       "2  data\\ISLP_website.pdf:2:0   \n",
       "3  data\\ISLP_website.pdf:2:1   \n",
       "4  data\\ISLP_website.pdf:2:2   \n",
       "\n",
       "                                                text  \\\n",
       "0  (BSFUI\u0001+BNFT\u0001t\u0001%BOJFMB\u00018JUUFO\u0001t\u00015SFWPS\u0001)BTUJF3...   \n",
       "1  To our parents:Alison and Michael JamesChiara ...   \n",
       "2  Preface\\nStatistical learning refers to a set ...   \n",
       "3  only in statistics but also in related fields....   \n",
       "4  gression, generalized additive models, tree-ba...   \n",
       "\n",
       "                                            metadata  \n",
       "0  {'id': 'data\\ISLP_website.pdf:0:0', 'page': 0,...  \n",
       "1  {'id': 'data\\ISLP_website.pdf:1:0', 'page': 1,...  \n",
       "2  {'id': 'data\\ISLP_website.pdf:2:0', 'page': 2,...  \n",
       "3  {'id': 'data\\ISLP_website.pdf:2:1', 'page': 2,...  \n",
       "4  {'id': 'data\\ISLP_website.pdf:2:2', 'page': 2,...  "
      ]
     },
     "execution_count": 22,
     "metadata": {},
     "output_type": "execute_result"
    }
   ],
   "source": [
    "from lancedb import connect\n",
    "import pandas as pd\n",
    "con = connect(uri='data/lancedb')\n",
    "df =con.open_table('vectorstore')\n",
    "df =df.to_pandas()\n",
    "df.head()"
   ]
  }
 ],
 "metadata": {
  "kernelspec": {
   "display_name": "Python 3 (ipykernel)",
   "language": "python",
   "name": "python3"
  },
  "language_info": {
   "codemirror_mode": {
    "name": "ipython",
    "version": 3
   },
   "file_extension": ".py",
   "mimetype": "text/x-python",
   "name": "python",
   "nbconvert_exporter": "python",
   "pygments_lexer": "ipython3",
   "version": "3.12.0"
  }
 },
 "nbformat": 4,
 "nbformat_minor": 2
}
